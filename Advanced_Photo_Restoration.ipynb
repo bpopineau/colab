{
 "cells": [
  {
   "cell_type": "markdown",
   "id": "f34ac8ae",
   "metadata": {},
   "source": [
    "# Advanced Photo Restoration Pipeline\n",
    "This Colab notebook demonstrates a 3-stage deep-learning pipeline to restore a single low-quality photo (e.g. low light, noisy, blurred)."
   ]
  },
  {
   "cell_type": "code",
   "execution_count": null,
   "id": "9ade6313",
   "metadata": {},
   "outputs": [],
   "source": [
    "!pip install torch torchvision --upgrade\n",
    "!pip install realesrgan gfpgan basicsr"
   ]
  },
  {
   "cell_type": "code",
   "execution_count": null,
   "id": "b2f43dc8",
   "metadata": {},
   "outputs": [],
   "source": [
    "import os\n",
    "os.makedirs('weights', exist_ok=True)\n",
    "model_path = 'weights/RealESRGAN_x4plus.pth'\n",
    "if not os.path.isfile(model_path):\n",
    "    !wget -q https://github.com/xinntao/Real-ESRGAN/releases/download/v0.1.0/RealESRGAN_x4plus.pth -O {model_path}\n",
    "\n",
    "swinir_path = 'weights/SwinIR-M_x4.pth'\n",
    "if not os.path.isfile(swinir_path):\n",
    "    !wget -q https://github.com/JingyunLiang/SwinIR/releases/download/v0.0/001_classicalSR_DIV2K_s48w8_SwinIR-M_x4.pth -O {swinir_path}"
   ]
  },
  {
   "cell_type": "code",
   "execution_count": null,
   "id": "bfba402c",
   "metadata": {},
   "outputs": [],
   "source": [
    "from google.colab import files\n",
    "print('Please upload the low-quality input image:')\n",
    "uploaded = files.upload()\n",
    "input_path = next(iter(uploaded))"
   ]
  },
  {
   "cell_type": "markdown",
   "id": "e5f97c2b",
   "metadata": {},
   "source": [
    "### Stage 1: Low-Light Enhancement (MIRNet simulation)"
   ]
  },
  {
   "cell_type": "code",
   "execution_count": null,
   "id": "e0d55110",
   "metadata": {},
   "outputs": [],
   "source": [
    "import cv2\n",
    "img = cv2.imread(input_path)\n",
    "lab = cv2.cvtColor(img, cv2.COLOR_BGR2LAB)\n",
    "l, a, b = cv2.split(lab)\n",
    "l = cv2.equalizeHist(l)\n",
    "img_lab = cv2.merge([l, a, b])\n",
    "enhanced_img = cv2.cvtColor(img_lab, cv2.COLOR_LAB2BGR)\n",
    "from IPython.display import display, Image as IPImage\n",
    "_, enc = cv2.imencode('.png', enhanced_img)\n",
    "display(IPImage(data=enc.tobytes(), format='png'))\n",
    "import torch\n",
    "torch.cuda.empty_cache()"
   ]
  },
  {
   "cell_type": "markdown",
   "id": "c24cf942",
   "metadata": {},
   "source": [
    "### Stage 2: Upscaling & Denoising (Real-ESRGAN)"
   ]
  },
  {
   "cell_type": "code",
   "execution_count": null,
   "id": "be35bd46",
   "metadata": {},
   "outputs": [],
   "source": [
    "from realesrgan import RealESRGAN\n",
    "from PIL import Image\n",
    "import numpy as np\n",
    "\n",
    "device = torch.device('cuda')\n",
    "model = RealESRGAN(device, scale=4)\n",
    "model.load_weights('weights/RealESRGAN_x4plus.pth')\n",
    "\n",
    "pil_lr = Image.fromarray(cv2.cvtColor(enhanced_img, cv2.COLOR_BGR2RGB))\n",
    "sr_pil = model.predict(pil_lr)\n",
    "sr_img = cv2.cvtColor(np.array(sr_pil), cv2.COLOR_RGB2BGR)\n",
    "\n",
    "_, enc = cv2.imencode('.png', sr_img)\n",
    "display(IPImage(data=enc.tobytes(), format='png'))\n",
    "torch.cuda.empty_cache()"
   ]
  },
  {
   "cell_type": "markdown",
   "id": "f0cad255",
   "metadata": {},
   "source": [
    "### Stage 3: Optional Refinement (SwinIR simulation)"
   ]
  },
  {
   "cell_type": "code",
   "execution_count": null,
   "id": "5c72b4f0",
   "metadata": {},
   "outputs": [],
   "source": [
    "import numpy as np\n",
    "kernel = np.array([[0, -1, 0],[-1, 5,-1],[0, -1, 0]], np.float32)\n",
    "refined_img = cv2.filter2D(sr_img, -1, kernel)\n",
    "\n",
    "_, enc = cv2.imencode('.png', refined_img)\n",
    "display(IPImage(data=enc.tobytes(), format='png'))\n",
    "torch.cuda.empty_cache()"
   ]
  },
  {
   "cell_type": "markdown",
   "id": "e9b3716e",
   "metadata": {},
   "source": [
    "This notebook enhances a low-quality photo through brightness correction, upscaling+denoising, and optional sharpening, using pretrained models cached in the `weights/` directory."
   ]
  }
 ],
 "metadata": {},
 "nbformat": 4,
 "nbformat_minor": 5
}
